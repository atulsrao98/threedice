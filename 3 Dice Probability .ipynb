{
 "cells": [
  {
   "cell_type": "code",
   "execution_count": 1,
   "metadata": {},
   "outputs": [],
   "source": [
    "import numpy as np\n",
    "import pandas as pd\n",
    "import matplotlib.pyplot as plt\n",
    "import random"
   ]
  },
  {
   "cell_type": "markdown",
   "metadata": {},
   "source": [
    "## Theoretical Probability "
   ]
  },
  {
   "cell_type": "code",
   "execution_count": 65,
   "metadata": {},
   "outputs": [
    {
     "name": "stdout",
     "output_type": "stream",
     "text": [
      "0.625\n"
     ]
    }
   ],
   "source": [
    "ctr2=0\n",
    "output_list=[]\n",
    "hand_list=[]\n",
    "correct_list=[]\n",
    "for i in range(1,7):\n",
    "    for j in range(1,7):\n",
    "        for k in range(1,7):\n",
    "            output_list.append((i,j,k))\n",
    "            if(i == 4 or i==5 or i==6 and j==5 or j==6):\n",
    "                hand_list.append((i,j,k))\n",
    "            if(i+j+k >=10):\n",
    "                ctr2+=1\n",
    "                correct_list.append((i,j,k))\n",
    "ther2_prob=ctr2/216\n",
    "print(ther2_prob)"
   ]
  },
  {
   "cell_type": "markdown",
   "metadata": {},
   "source": [
    "## Experimental Probability"
   ]
  },
  {
   "cell_type": "code",
   "execution_count": 36,
   "metadata": {},
   "outputs": [
    {
     "name": "stdout",
     "output_type": "stream",
     "text": [
      "Experimental Probability : 0.6269\n"
     ]
    }
   ],
   "source": [
    "num_exp=10000\n",
    "ctr=0\n",
    "for i in range(num_exp):\n",
    "    x=random.randint(1,6)\n",
    "    y=random.randint(1,6)\n",
    "    z=random.randint(1,6)\n",
    "    if(x+y+z >= 10):\n",
    "        ctr+=1\n",
    "exp_prob=ctr/num_exp\n",
    "print(\"Experimental Probability : {}\".format(exp_prob))"
   ]
  },
  {
   "cell_type": "markdown",
   "metadata": {},
   "source": [
    "## Convergence Plot"
   ]
  },
  {
   "cell_type": "code",
   "execution_count": 69,
   "metadata": {},
   "outputs": [],
   "source": [
    "num_exp_list=list((np.arange(10,10000,500)))\n",
    "exp_prob_list=[]\n",
    "for num_exp in num_exp_list:\n",
    "    ctr3=0\n",
    "    for i in range(num_exp):\n",
    "        x=random.randint(1,6)\n",
    "        y=random.randint(1,6)\n",
    "        z=random.randint(1,6)\n",
    "        if(x+y+z >= 10):\n",
    "            ctr3+=1\n",
    "    exp_prob_list.append(ctr3/num_exp)"
   ]
  },
  {
   "cell_type": "code",
   "execution_count": 71,
   "metadata": {
    "scrolled": true
   },
   "outputs": [
    {
     "data": {
      "image/png": "[encoded data removed]",
      "text/plain": [
       "<Figure size 432x288 with 1 Axes>"
      ]
     },
     "metadata": {
      "needs_background": "light"
     },
     "output_type": "display_data"
    }
   ],
   "source": [
    "plt.plot(num_exp_list,exp_prob_list)\n",
    "plt.xlabel(\"Number of Expriments\")\n",
    "plt.ylabel(\"P(Sum >=10)\")\n",
    "plt.show()"
   ]
  }
 ],
 "metadata": {
  "kernelspec": {
   "display_name": "Python 3",
   "language": "python",
   "name": "python3"
  },
  "language_info": {
   "codemirror_mode": {
    "name": "ipython",
    "version": 3
   },
   "file_extension": ".py",
   "mimetype": "text/x-python",
   "name": "python",
   "nbconvert_exporter": "python",
   "pygments_lexer": "ipython3",
   "version": "3.8.5"
  }
 },
 "nbformat": 4,
 "nbformat_minor": 4
}
